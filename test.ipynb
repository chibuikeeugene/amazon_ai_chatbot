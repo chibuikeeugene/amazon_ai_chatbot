{
 "cells": [
  {
   "cell_type": "code",
   "execution_count": 1,
   "metadata": {},
   "outputs": [],
   "source": [
    "import ast"
   ]
  },
  {
   "cell_type": "code",
   "execution_count": 7,
   "metadata": {},
   "outputs": [
    {
     "data": {
      "text/html": [
       "<div>\n",
       "<style scoped>\n",
       "    .dataframe tbody tr th:only-of-type {\n",
       "        vertical-align: middle;\n",
       "    }\n",
       "\n",
       "    .dataframe tbody tr th {\n",
       "        vertical-align: top;\n",
       "    }\n",
       "\n",
       "    .dataframe thead th {\n",
       "        text-align: right;\n",
       "    }\n",
       "</style>\n",
       "<table border=\"1\" class=\"dataframe\">\n",
       "  <thead>\n",
       "    <tr style=\"text-align: right;\">\n",
       "      <th></th>\n",
       "      <th>id</th>\n",
       "      <th>title</th>\n",
       "      <th>slug</th>\n",
       "      <th>price</th>\n",
       "      <th>description</th>\n",
       "      <th>category</th>\n",
       "      <th>images</th>\n",
       "      <th>creationAt</th>\n",
       "      <th>updatedAt</th>\n",
       "    </tr>\n",
       "  </thead>\n",
       "  <tbody>\n",
       "    <tr>\n",
       "      <th>0</th>\n",
       "      <td>22</td>\n",
       "      <td>Sleek Wireless Computer Mouse</td>\n",
       "      <td>sleek-wireless-computer-mouse</td>\n",
       "      <td>25</td>\n",
       "      <td>smooth and precise navigation with this modern...</td>\n",
       "      <td>Electronics</td>\n",
       "      <td>https://i.imgur.com/w3Y8NwQ.jpeg</td>\n",
       "      <td>2025-03-18T17:28:05.000Z</td>\n",
       "      <td>2025-03-19T16:37:10.000Z</td>\n",
       "    </tr>\n",
       "    <tr>\n",
       "      <th>1</th>\n",
       "      <td>23</td>\n",
       "      <td>Sleek Modern Laptop with Ambient Lighting</td>\n",
       "      <td>sleek-modern-laptop-with-ambient-lighting</td>\n",
       "      <td>43</td>\n",
       "      <td>Experience next-level computing with our ultra...</td>\n",
       "      <td>Electronics</td>\n",
       "      <td>https://i.imgur.com/OKn1KFI.jpeg</td>\n",
       "      <td>2025-03-18T17:28:05.000Z</td>\n",
       "      <td>2025-03-18T17:28:05.000Z</td>\n",
       "    </tr>\n",
       "    <tr>\n",
       "      <th>2</th>\n",
       "      <td>24</td>\n",
       "      <td>Sleek Modern Laptop for Professionals</td>\n",
       "      <td>sleek-modern-laptop-for-professionals</td>\n",
       "      <td>97</td>\n",
       "      <td>Experience cutting-edge technology and elegant...</td>\n",
       "      <td>Electronics</td>\n",
       "      <td>https://i.imgur.com/ItHcq7o.jpeg</td>\n",
       "      <td>2025-03-18T17:28:05.000Z</td>\n",
       "      <td>2025-03-18T17:28:05.000Z</td>\n",
       "    </tr>\n",
       "    <tr>\n",
       "      <th>3</th>\n",
       "      <td>25</td>\n",
       "      <td>Stylish Red &amp; Silver Over-Ear Headphones</td>\n",
       "      <td>stylish-red-silver-over-ear-headphones</td>\n",
       "      <td>39</td>\n",
       "      <td>Immerse yourself in superior sound quality wit...</td>\n",
       "      <td>Electronics</td>\n",
       "      <td>https://i.imgur.com/YaSqa06.jpeg</td>\n",
       "      <td>2025-03-18T17:28:05.000Z</td>\n",
       "      <td>2025-03-18T17:28:05.000Z</td>\n",
       "    </tr>\n",
       "    <tr>\n",
       "      <th>4</th>\n",
       "      <td>26</td>\n",
       "      <td>Sleek Mirror Finish Phone Case</td>\n",
       "      <td>sleek-mirror-finish-phone-case</td>\n",
       "      <td>27</td>\n",
       "      <td>Enhance your smartphone's look with this ultra...</td>\n",
       "      <td>Electronics</td>\n",
       "      <td>https://i.imgur.com/yb9UQKL.jpeg</td>\n",
       "      <td>2025-03-18T17:28:05.000Z</td>\n",
       "      <td>2025-03-18T17:28:05.000Z</td>\n",
       "    </tr>\n",
       "  </tbody>\n",
       "</table>\n",
       "</div>"
      ],
      "text/plain": [
       "   id                                      title  \\\n",
       "0  22              Sleek Wireless Computer Mouse   \n",
       "1  23  Sleek Modern Laptop with Ambient Lighting   \n",
       "2  24      Sleek Modern Laptop for Professionals   \n",
       "3  25   Stylish Red & Silver Over-Ear Headphones   \n",
       "4  26             Sleek Mirror Finish Phone Case   \n",
       "\n",
       "                                        slug  price  \\\n",
       "0              sleek-wireless-computer-mouse     25   \n",
       "1  sleek-modern-laptop-with-ambient-lighting     43   \n",
       "2      sleek-modern-laptop-for-professionals     97   \n",
       "3     stylish-red-silver-over-ear-headphones     39   \n",
       "4             sleek-mirror-finish-phone-case     27   \n",
       "\n",
       "                                         description     category  \\\n",
       "0  smooth and precise navigation with this modern...  Electronics   \n",
       "1  Experience next-level computing with our ultra...  Electronics   \n",
       "2  Experience cutting-edge technology and elegant...  Electronics   \n",
       "3  Immerse yourself in superior sound quality wit...  Electronics   \n",
       "4  Enhance your smartphone's look with this ultra...  Electronics   \n",
       "\n",
       "                             images                creationAt  \\\n",
       "0  https://i.imgur.com/w3Y8NwQ.jpeg  2025-03-18T17:28:05.000Z   \n",
       "1  https://i.imgur.com/OKn1KFI.jpeg  2025-03-18T17:28:05.000Z   \n",
       "2  https://i.imgur.com/ItHcq7o.jpeg  2025-03-18T17:28:05.000Z   \n",
       "3  https://i.imgur.com/YaSqa06.jpeg  2025-03-18T17:28:05.000Z   \n",
       "4  https://i.imgur.com/yb9UQKL.jpeg  2025-03-18T17:28:05.000Z   \n",
       "\n",
       "                  updatedAt  \n",
       "0  2025-03-19T16:37:10.000Z  \n",
       "1  2025-03-18T17:28:05.000Z  \n",
       "2  2025-03-18T17:28:05.000Z  \n",
       "3  2025-03-18T17:28:05.000Z  \n",
       "4  2025-03-18T17:28:05.000Z  "
      ]
     },
     "execution_count": 7,
     "metadata": {},
     "output_type": "execute_result"
    }
   ],
   "source": [
    "import pandas as pd\n",
    "df =  pd.read_csv('data_pipeline/transformed_product_data.csv')\n",
    "df.head()"
   ]
  },
  {
   "cell_type": "code",
   "execution_count": 8,
   "metadata": {},
   "outputs": [
    {
     "name": "stdout",
     "output_type": "stream",
     "text": [
      "<class 'pandas.core.frame.DataFrame'>\n",
      "RangeIndex: 10 entries, 0 to 9\n",
      "Data columns (total 9 columns):\n",
      " #   Column       Non-Null Count  Dtype \n",
      "---  ------       --------------  ----- \n",
      " 0   id           10 non-null     int64 \n",
      " 1   title        10 non-null     object\n",
      " 2   slug         10 non-null     object\n",
      " 3   price        10 non-null     int64 \n",
      " 4   description  10 non-null     object\n",
      " 5   category     10 non-null     object\n",
      " 6   images       10 non-null     object\n",
      " 7   creationAt   10 non-null     object\n",
      " 8   updatedAt    10 non-null     object\n",
      "dtypes: int64(2), object(7)\n",
      "memory usage: 852.0+ bytes\n"
     ]
    }
   ],
   "source": [
    "df.info()"
   ]
  },
  {
   "cell_type": "code",
   "execution_count": null,
   "metadata": {},
   "outputs": [],
   "source": [
    "# extract the category name\n",
    "category_list = []\n",
    "for cat_str in df['category']:\n",
    "    cat_dict = ast.literal_eval(cat_str)\n",
    "    category_list.append(cat_dict['name'])\n",
    "df['category'] =  category_list"
   ]
  },
  {
   "cell_type": "code",
   "execution_count": null,
   "metadata": {},
   "outputs": [],
   "source": [
    "category_list = []\n",
    "for cat_dict in df['category']:\n",
    "    category_list.append(cat_dict['name'])\n",
    "df['category'] =  category_list\n",
    "pr"
   ]
  },
  {
   "cell_type": "code",
   "execution_count": null,
   "metadata": {},
   "outputs": [],
   "source": [
    "image_list = []\n",
    "# extract the first image\n",
    "for image in df['images']:\n",
    "    image_list.append(ast.literal_eval(image)[0])\n",
    "\n",
    "\n",
    "print(image_list)\n"
   ]
  },
  {
   "cell_type": "code",
   "execution_count": null,
   "metadata": {},
   "outputs": [],
   "source": [
    "ast.literal_eval(df['images'][0])"
   ]
  },
  {
   "cell_type": "code",
   "execution_count": null,
   "metadata": {},
   "outputs": [],
   "source": [
    "df['images'][0]"
   ]
  },
  {
   "cell_type": "code",
   "execution_count": null,
   "metadata": {},
   "outputs": [],
   "source": [
    "df.columns.to_list"
   ]
  },
  {
   "cell_type": "code",
   "execution_count": 10,
   "metadata": {},
   "outputs": [
    {
     "data": {
      "text/plain": [
       "'2025-03-18T17:28:05.000Z'"
      ]
     },
     "execution_count": 10,
     "metadata": {},
     "output_type": "execute_result"
    }
   ],
   "source": [
    "test_date = df['creationAt'][0]\n",
    "df['creationAt'][0]"
   ]
  },
  {
   "cell_type": "code",
   "execution_count": 17,
   "metadata": {},
   "outputs": [],
   "source": [
    "result = pd.to_datetime(test_date).date()"
   ]
  },
  {
   "cell_type": "code",
   "execution_count": 19,
   "metadata": {},
   "outputs": [
    {
     "name": "stdout",
     "output_type": "stream",
     "text": [
      "2025-03-18\n"
     ]
    }
   ],
   "source": [
    "print(result)"
   ]
  },
  {
   "cell_type": "code",
   "execution_count": 27,
   "metadata": {},
   "outputs": [
    {
     "name": "stdout",
     "output_type": "stream",
     "text": [
      "2025-03-18\n"
     ]
    }
   ],
   "source": [
    "result = [date.date()for date in pd.to_datetime(df['creationAt'])]\n",
    "print(result[1])"
   ]
  },
  {
   "cell_type": "code",
   "execution_count": 30,
   "metadata": {},
   "outputs": [],
   "source": [
    "dict_sample = {'gender':'boy', 'occupation':'programming','country':'nigeria'}\n",
    "result = {','.join(dict_sample.values())}"
   ]
  },
  {
   "cell_type": "code",
   "execution_count": 31,
   "metadata": {},
   "outputs": [
    {
     "data": {
      "text/plain": [
       "{'boy,programming,nigeria'}"
      ]
     },
     "execution_count": 31,
     "metadata": {},
     "output_type": "execute_result"
    }
   ],
   "source": [
    "result"
   ]
  }
 ],
 "metadata": {
  "kernelspec": {
   "display_name": ".venv",
   "language": "python",
   "name": "python3"
  },
  "language_info": {
   "codemirror_mode": {
    "name": "ipython",
    "version": 3
   },
   "file_extension": ".py",
   "mimetype": "text/x-python",
   "name": "python",
   "nbconvert_exporter": "python",
   "pygments_lexer": "ipython3",
   "version": "3.11.11"
  }
 },
 "nbformat": 4,
 "nbformat_minor": 2
}
