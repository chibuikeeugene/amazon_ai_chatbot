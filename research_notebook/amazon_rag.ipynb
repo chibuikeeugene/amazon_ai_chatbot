{
 "cells": [
  {
   "cell_type": "markdown",
   "metadata": {},
   "source": [
    "## Load the csv data"
   ]
  },
  {
   "cell_type": "code",
   "execution_count": 1,
   "metadata": {},
   "outputs": [],
   "source": [
    "import pandas as pd\n",
    "from langchain_ollama.embeddings import OllamaEmbeddings\n",
    "from langchain_community.vectorstores import Chroma\n",
    "from langchain_community.document_loaders import CSVLoader\n",
    "import re\n",
    "import ollama\n",
    "import subprocess\n",
    "from langchain.schema import Document"
   ]
  },
  {
   "cell_type": "code",
   "execution_count": 2,
   "metadata": {},
   "outputs": [],
   "source": [
    "data_file =  '../rag_chain/output.csv'"
   ]
  },
  {
   "cell_type": "code",
   "execution_count": 4,
   "metadata": {},
   "outputs": [],
   "source": [
    "# process csv file function\n",
    "def process_csv_file(data:str):\n",
    "    \"\"\"function creates a new vector embedding and a retriever from the vectorstore\n",
    "\n",
    "    args:\n",
    "    * data:str -  csv file string\n",
    "\n",
    "    return:\n",
    "    * retriever object\n",
    "    * vectore store\n",
    "    * embedding object\n",
    "    \n",
    "    \"\"\"\n",
    "\n",
    "    # check if the data object is available\n",
    "    if data is None:\n",
    "        return None\n",
    "    \n",
    "    # create and load data into document objects\n",
    "    loader = CSVLoader(data)\n",
    "    docs = loader.load()\n",
    "\n",
    "\n",
    "    #load the embedding model object\n",
    "    embeddings = OllamaEmbeddings(model='deepseek-r1')\n",
    "\n",
    "\n",
    "    # create vector embeddings using chroma\n",
    "    vectorstore = Chroma.from_documents(\n",
    "        collection_name='amazon_collection',\n",
    "        documents=docs,\n",
    "        embedding=embeddings,\n",
    "        # persist_directory='./chromadb'\n",
    "    )\n",
    "\n",
    "    # create the retriever object\n",
    "    retriever = vectorstore.as_retriever()\n",
    "\n",
    "    return retriever\n"
   ]
  },
  {
   "cell_type": "code",
   "execution_count": 5,
   "metadata": {},
   "outputs": [],
   "source": [
    "# combine document function\n",
    "\n",
    "def combine_docs(docs: list[Document]):\n",
    "    \"\"\"this function merges documents into a single string.\n",
    "    this is necessary to format our inputs into a form understandable and processable by\n",
    "    our model\n",
    "    \n",
    "    args:\n",
    "    * doc: list[Document]\n",
    "    \n",
    "    \"\"\"\n",
    "    return '\\n\\n'.join(doc.page_content for doc in docs)"
   ]
  },
  {
   "cell_type": "code",
   "execution_count": 6,
   "metadata": {},
   "outputs": [],
   "source": [
    "\n",
    "def chat_model(question:str, context:str):\n",
    "    \"\"\" function formats the user’s question and the retrieved document context into a structured prompt. \n",
    "    \n",
    "    args:\n",
    "    * question:str - query\n",
    "    * context:str - context from the retrieved document returned from the retriever\n",
    "    \n",
    "    \"\"\"\n",
    "\n",
    "    formatted_prompt = f'Question: {question}\\n\\nContext:{context}'\n",
    "\n",
    "    # This formatted input is then sent to DeepSeek-R1 via ollama.chat(), \n",
    "    # which processes the question within the given context and returns a relevant answer.\n",
    "\n",
    "    final_response = ollama.chat(\n",
    "        model='deepseek-r1',\n",
    "        messages=[{\"role\": \"user\", \"content\": formatted_prompt}],\n",
    "        stream=False\n",
    "    )\n",
    "    response = final_response['message']['content']\n",
    "    final_answer = re.sub(r\"<think>.*?</think>\", \"\", response, flags=re.DOTALL).strip()\n",
    "    return final_answer\n",
    "\n",
    "    "
   ]
  },
  {
   "cell_type": "code",
   "execution_count": 7,
   "metadata": {},
   "outputs": [],
   "source": [
    "# defining the rag chain function\n",
    "def rag_chain(question, retriever):\n",
    "    retrieved_docs = retriever.invoke(question)\n",
    "    formatted_content = combine_docs(retrieved_docs)\n",
    "    return chat_model(question, formatted_content)"
   ]
  },
  {
   "cell_type": "code",
   "execution_count": 8,
   "metadata": {},
   "outputs": [
    {
     "name": "stdout",
     "output_type": "stream",
     "text": [
      "The cheapest product among the given shoe options is **ID 38: Vibrant Runners: Bold Orange & Blue Sneakers** at $27.\n",
      "\n",
      "**Answer:** The cheapest product is ID 38 with a price of \\$27.\n"
     ]
    }
   ],
   "source": [
    "retriever = process_csv_file(data=data_file)\n",
    "\n",
    "result = rag_chain(\n",
    "    question='what category has the cheapest product',\n",
    "    retriever=retriever)\n",
    "\n",
    "\n",
    "print(result)"
   ]
  }
 ],
 "metadata": {
  "kernelspec": {
   "display_name": ".venv",
   "language": "python",
   "name": "python3"
  },
  "language_info": {
   "codemirror_mode": {
    "name": "ipython",
    "version": 3
   },
   "file_extension": ".py",
   "mimetype": "text/x-python",
   "name": "python",
   "nbconvert_exporter": "python",
   "pygments_lexer": "ipython3",
   "version": "3.11.11"
  }
 },
 "nbformat": 4,
 "nbformat_minor": 2
}
